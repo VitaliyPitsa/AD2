{
 "cells": [
  {
   "cell_type": "code",
   "execution_count": 1,
   "id": "a2c8c214",
   "metadata": {
    "id": "a2c8c214"
   },
   "outputs": [],
   "source": [
    "import pandas as pd\n",
    "import numpy as np\n"
   ]
  },
  {
   "cell_type": "markdown",
   "id": "a10f65f3",
   "metadata": {
    "id": "a10f65f3"
   },
   "source": [
    "Задание 1. Создать объект Series из списка чисел [1, 2, 3] с метками [a, b, c] и вывести его на печать."
   ]
  },
  {
   "cell_type": "code",
   "execution_count": 2,
   "id": "9d4490d5",
   "metadata": {
    "colab": {
     "base_uri": "https://localhost:8080/"
    },
    "id": "9d4490d5",
    "outputId": "21476cc1-80d7-49c8-d290-d187196af202"
   },
   "outputs": [
    {
     "name": "stdout",
     "output_type": "stream",
     "text": [
      "a    1\n",
      "b    2\n",
      "c    3\n",
      "dtype: int64\n"
     ]
    }
   ],
   "source": [
    "s = pd.Series([1, 2, 3], index=['a', 'b', 'c'])\n",
    "print(s)"
   ]
  },
  {
   "cell_type": "markdown",
   "id": "23e91140",
   "metadata": {
    "id": "23e91140"
   },
   "source": [
    "Задание 2. Создать объект Series из словаря {'a': 1, 'b': 2, 'c': 3} и вывести его на печать."
   ]
  },
  {
   "cell_type": "code",
   "execution_count": 3,
   "id": "5701815e",
   "metadata": {
    "colab": {
     "base_uri": "https://localhost:8080/"
    },
    "id": "5701815e",
    "outputId": "61bd2448-9772-47ee-b822-f2d45f3abd4c"
   },
   "outputs": [
    {
     "name": "stdout",
     "output_type": "stream",
     "text": [
      "a    1\n",
      "b    2\n",
      "c    3\n",
      "dtype: int64\n"
     ]
    }
   ],
   "source": [
    "my_list = {'a': 1, 'b': 2, 'c': 3}\n",
    "s = pd.Series(my_list)\n",
    "print(s)"
   ]
  },
  {
   "cell_type": "markdown",
   "id": "46eaafc1",
   "metadata": {
    "id": "46eaafc1"
   },
   "source": [
    "Задание 3. Создать объект массива NumPy arr = [1, 2, 3, 4, 5] , затем из него создать объект Series и вывести его на печать."
   ]
  },
  {
   "cell_type": "code",
   "execution_count": 4,
   "id": "d6cb7e08",
   "metadata": {
    "colab": {
     "base_uri": "https://localhost:8080/"
    },
    "id": "d6cb7e08",
    "outputId": "206d864d-9793-49d6-e927-46405e9c58dd"
   },
   "outputs": [
    {
     "name": "stdout",
     "output_type": "stream",
     "text": [
      "0    1\n",
      "1    2\n",
      "2    3\n",
      "3    4\n",
      "4    5\n",
      "dtype: int32\n"
     ]
    }
   ],
   "source": [
    "my_array = np.array([1, 2, 3, 4, 5])\n",
    "s = pd.Series(my_array)\n",
    "\n",
    "print(s)"
   ]
  },
  {
   "cell_type": "markdown",
   "id": "bb69321f",
   "metadata": {
    "id": "bb69321f"
   },
   "source": [
    "Задание 4. Создать объект Series с заполнением по умолчанию значением 0 и метками [a, b, c] и вывести его на печать."
   ]
  },
  {
   "cell_type": "code",
   "execution_count": 5,
   "id": "dbfbc3cc",
   "metadata": {
    "colab": {
     "base_uri": "https://localhost:8080/"
    },
    "id": "dbfbc3cc",
    "outputId": "f1181356-3637-4855-9bf2-c16f9fc3ab29"
   },
   "outputs": [
    {
     "name": "stdout",
     "output_type": "stream",
     "text": [
      "a    0\n",
      "b    0\n",
      "c    0\n",
      "dtype: int64\n"
     ]
    }
   ],
   "source": [
    "s = pd.Series(0, index=['a', 'b', 'c'])\n",
    "print(s)"
   ]
  },
  {
   "cell_type": "markdown",
   "id": "0c74f6e7",
   "metadata": {
    "id": "0c74f6e7"
   },
   "source": [
    "Задание 5. В первой строке ввода с клавиатуры поступает строка с символами разлепленными пробелом, во второй строка с целыми числами. На их основе создать список кортежей и из него объект Series, вывести его на печать."
   ]
  },
  {
   "cell_type": "code",
   "execution_count": 6,
   "id": "4d41e5f2",
   "metadata": {
    "colab": {
     "base_uri": "https://localhost:8080/"
    },
    "id": "4d41e5f2",
    "outputId": "41652c36-3755-44f3-f105-92efd122a7fe"
   },
   "outputs": [
    {
     "name": "stdout",
     "output_type": "stream",
     "text": [
      "Введите символы, разделенные пробелом qw eqwe qwe\n",
      "Введите целые числа 1 2 3 4\n",
      "0      (qw, 1)\n",
      "1    (eqwe, 2)\n",
      "2     (qwe, 3)\n",
      "dtype: object\n"
     ]
    }
   ],
   "source": [
    "str1 = input(\"Введите символы, разделенные пробелом \")\n",
    "str2 = input(\"Введите целые числа \")\n",
    "s1 = tuple(str(item) for item in str1.split(' '))\n",
    "s2 = tuple(int(item) for item in str2.split(' '))\n",
    "my_list = list(zip(s1, s2))\n",
    "s = pd.Series(my_list)\n",
    "print(s)"
   ]
  },
  {
   "cell_type": "markdown",
   "id": "6564524a",
   "metadata": {
    "id": "6564524a"
   },
   "source": [
    "Задание 6. На вход поступает строка слов, разделенных пробелом. Создать на ее основе объект Series с метками 0, 1, 2,... Вывести его на печать."
   ]
  },
  {
   "cell_type": "code",
   "execution_count": 7,
   "id": "4b02b196",
   "metadata": {
    "colab": {
     "base_uri": "https://localhost:8080/"
    },
    "id": "4b02b196",
    "outputId": "3ab1e4ba-1d55-4d0d-d1d4-7aef6a8d45a6"
   },
   "outputs": [
    {
     "name": "stdout",
     "output_type": "stream",
     "text": [
      "Введите слова, разделенные пробелом wolf dog cat\n",
      "0    wolf\n",
      "1     dog\n",
      "2     cat\n",
      "dtype: object\n"
     ]
    }
   ],
   "source": [
    "str1 = input(\"Введите слова, разделенные пробелом \")\n",
    "s1 = tuple(str(item) for item in str1.split(' '))\n",
    "s = pd.Series(s1)\n",
    "print(s)"
   ]
  },
  {
   "cell_type": "markdown",
   "id": "74aaf047",
   "metadata": {
    "id": "74aaf047"
   },
   "source": [
    "Задание 7. На вход поступает последовательность из чисел 0 и 1, разделенных пробелом. Создать на ее основе объект Series, содержащий булевы значения True (1) , False (0) c метками [a, b, c, d,...]"
   ]
  },
  {
   "cell_type": "code",
   "execution_count": 8,
   "id": "d651ca82",
   "metadata": {
    "colab": {
     "base_uri": "https://localhost:8080/"
    },
    "id": "d651ca82",
    "outputId": "62d4449c-d4c9-406d-e789-f915adf11074"
   },
   "outputs": [
    {
     "name": "stdout",
     "output_type": "stream",
     "text": [
      "0 1 0 1 1\n",
      "[False, True, False, True, True]\n",
      "a    False\n",
      "b     True\n",
      "c    False\n",
      "d     True\n",
      "e     True\n",
      "dtype: bool\n"
     ]
    }
   ],
   "source": [
    "s = input()\n",
    "list = s.split()\n",
    "bool_list = [bool(int(x)) for x in list]\n",
    "print(bool_list)\n",
    "st = pd.Series(bool_list)\n",
    "st = st.rename(lambda x: chr(97 + x))\n",
    "print(st)"
   ]
  },
  {
   "cell_type": "markdown",
   "id": "c6763f80",
   "metadata": {
    "id": "c6763f80"
   },
   "source": [
    "Задание 8. Создать объект Series из списка дат ['2022-01-01', '2022-01-02', '2022 01-03'] , вывести его на печать. Даты в объекте Series должны быть представлены объектами datetime стандартной библиотеки языка программирования Python."
   ]
  },
  {
   "cell_type": "code",
   "execution_count": 9,
   "id": "888ffe95",
   "metadata": {
    "id": "888ffe95"
   },
   "outputs": [
    {
     "name": "stdout",
     "output_type": "stream",
     "text": [
      "0   2022-01-01\n",
      "1   2022-01-02\n",
      "2   2022-01-03\n",
      "dtype: datetime64[ns]\n"
     ]
    }
   ],
   "source": [
    "s = pd.Series(data = pd.date_range('2022-01-01', periods=3))\n",
    "print(s)\n"
   ]
  },
  {
   "cell_type": "markdown",
   "id": "b3b50d40",
   "metadata": {
    "id": "b3b50d40"
   },
   "source": [
    "Задание 9. На вход подаются два целых числа n и m через пробел. На их основе создать объект Series с числами от n до m (включительно) с шагом 10 и метками [1, 3, 5, 7,...] . Вывести его на печать."
   ]
  },
  {
   "cell_type": "code",
   "execution_count": 12,
   "id": "6be9d476",
   "metadata": {
    "colab": {
     "base_uri": "https://localhost:8080/"
    },
    "id": "6be9d476",
    "outputId": "48b65998-ca40-42f6-824a-f07caed4509e"
   },
   "outputs": [
    {
     "name": "stdout",
     "output_type": "stream",
     "text": [
      "Начальное число: 1\n",
      "Конечное число: 52\n",
      "1      1\n",
      "3     11\n",
      "5     21\n",
      "7     31\n",
      "9     41\n",
      "11    51\n",
      "dtype: int64\n"
     ]
    }
   ],
   "source": [
    "a = int(input(\"Начальное число: \"))\n",
    "b = int(input(\"Конечное число: \"))\n",
    "st = pd.Series(range(a, b + 1, 10))\n",
    "st = st.rename(lambda x: int(1 + 2*x))\n",
    "print(st)"
   ]
  },
  {
   "cell_type": "markdown",
   "id": "fd443753",
   "metadata": {
    "id": "fd443753"
   },
   "source": [
    "Индивидуальное задание. Создать объект Series из словаря, содержащего фамилию и имя спортсмена и длину его броска  , отсортировать словарь по длине броска  и вывести его на печать."
   ]
  },
  {
   "cell_type": "code",
   "execution_count": 33,
   "id": "839b8eaa",
   "metadata": {
    "colab": {
     "base_uri": "https://localhost:8080/"
    },
    "id": "839b8eaa",
    "outputId": "14d2e387-5934-405b-bfdc-ee7d385eb4c3"
   },
   "outputs": [
    {
     "name": "stdout",
     "output_type": "stream",
     "text": [
      "Тайлер Дерден         27\n",
      "Решетников Евгений    25\n",
      "Райн Гослинг          24\n",
      "Павленко павел        22\n",
      "Криворот Владимир     19\n",
      "Данилин Даниил        17\n",
      "dtype: object\n"
     ]
    }
   ],
   "source": [
    "my_list = {\n",
    "    \"Павленко павел\":'22',\n",
    "    \"Криворот Владимир\":'19',\n",
    "    \"Данилин Даниил\":'17',\n",
    "    \"Решетников Евгений\":'25',\n",
    "    \"Райн Гослинг\":'24',\n",
    "    \"Тайлер Дерден\":'27'\n",
    "}\n",
    "st = pd.Series(my_list)\n",
    "sorted_st = st.sort_values(ascending=False)\n",
    "print(sorted_st)"
   ]
  }
 ],
 "metadata": {
  "colab": {
   "provenance": []
  },
  "kernelspec": {
   "display_name": "Python 3 (ipykernel)",
   "language": "python",
   "name": "python3"
  },
  "language_info": {
   "codemirror_mode": {
    "name": "ipython",
    "version": 3
   },
   "file_extension": ".py",
   "mimetype": "text/x-python",
   "name": "python",
   "nbconvert_exporter": "python",
   "pygments_lexer": "ipython3",
   "version": "3.9.13"
  }
 },
 "nbformat": 4,
 "nbformat_minor": 5
}
